{
 "cells": [
  {
   "cell_type": "code",
   "execution_count": 45,
   "id": "e65d8da4",
   "metadata": {},
   "outputs": [],
   "source": [
    "import matplotlib.pyplot as plt\n",
    "import numpy as np\n",
    "import re\n",
    "import string\n",
    "import random\n",
    "import pandas as pd\n",
    "import nltk\n",
    "from nltk.stem import PorterStemmer\n",
    "from nltk.corpus import stopwords\n",
    "from nltk.tokenize import word_tokenize\n",
    "from gensim.models import Word2Vec\n",
    "import seaborn as sns"
   ]
  },
  {
   "cell_type": "code",
   "execution_count": 46,
   "id": "f77fe1ce",
   "metadata": {},
   "outputs": [
    {
     "data": {
      "text/html": [
       "<div>\n",
       "<style scoped>\n",
       "    .dataframe tbody tr th:only-of-type {\n",
       "        vertical-align: middle;\n",
       "    }\n",
       "\n",
       "    .dataframe tbody tr th {\n",
       "        vertical-align: top;\n",
       "    }\n",
       "\n",
       "    .dataframe thead th {\n",
       "        text-align: right;\n",
       "    }\n",
       "</style>\n",
       "<table border=\"1\" class=\"dataframe\">\n",
       "  <thead>\n",
       "    <tr style=\"text-align: right;\">\n",
       "      <th></th>\n",
       "      <th>Unnamed: 0</th>\n",
       "      <th>Title</th>\n",
       "      <th>Desc</th>\n",
       "      <th>Type</th>\n",
       "      <th>BodyPart</th>\n",
       "      <th>Equipment</th>\n",
       "      <th>Level</th>\n",
       "      <th>Rating</th>\n",
       "      <th>RatingDesc</th>\n",
       "    </tr>\n",
       "  </thead>\n",
       "  <tbody>\n",
       "    <tr>\n",
       "      <th>0</th>\n",
       "      <td>0</td>\n",
       "      <td>Partner plank band row</td>\n",
       "      <td>The partner plank band row is an abdominal exe...</td>\n",
       "      <td>Strength</td>\n",
       "      <td>Abdominals</td>\n",
       "      <td>Bands</td>\n",
       "      <td>Intermediate</td>\n",
       "      <td>0.0</td>\n",
       "      <td>NaN</td>\n",
       "    </tr>\n",
       "    <tr>\n",
       "      <th>1</th>\n",
       "      <td>1</td>\n",
       "      <td>Banded crunch isometric hold</td>\n",
       "      <td>The banded crunch isometric hold is an exercis...</td>\n",
       "      <td>Strength</td>\n",
       "      <td>Abdominals</td>\n",
       "      <td>Bands</td>\n",
       "      <td>Intermediate</td>\n",
       "      <td>NaN</td>\n",
       "      <td>NaN</td>\n",
       "    </tr>\n",
       "    <tr>\n",
       "      <th>2</th>\n",
       "      <td>2</td>\n",
       "      <td>FYR Banded Plank Jack</td>\n",
       "      <td>The banded plank jack is a variation on the pl...</td>\n",
       "      <td>Strength</td>\n",
       "      <td>Abdominals</td>\n",
       "      <td>Bands</td>\n",
       "      <td>Intermediate</td>\n",
       "      <td>NaN</td>\n",
       "      <td>NaN</td>\n",
       "    </tr>\n",
       "    <tr>\n",
       "      <th>3</th>\n",
       "      <td>3</td>\n",
       "      <td>Banded crunch</td>\n",
       "      <td>The banded crunch is an exercise targeting the...</td>\n",
       "      <td>Strength</td>\n",
       "      <td>Abdominals</td>\n",
       "      <td>Bands</td>\n",
       "      <td>Intermediate</td>\n",
       "      <td>NaN</td>\n",
       "      <td>NaN</td>\n",
       "    </tr>\n",
       "    <tr>\n",
       "      <th>4</th>\n",
       "      <td>4</td>\n",
       "      <td>Crunch</td>\n",
       "      <td>The crunch is a popular core exercise targetin...</td>\n",
       "      <td>Strength</td>\n",
       "      <td>Abdominals</td>\n",
       "      <td>Bands</td>\n",
       "      <td>Intermediate</td>\n",
       "      <td>NaN</td>\n",
       "      <td>NaN</td>\n",
       "    </tr>\n",
       "  </tbody>\n",
       "</table>\n",
       "</div>"
      ],
      "text/plain": [
       "   Unnamed: 0                         Title  \\\n",
       "0           0        Partner plank band row   \n",
       "1           1  Banded crunch isometric hold   \n",
       "2           2         FYR Banded Plank Jack   \n",
       "3           3                 Banded crunch   \n",
       "4           4                        Crunch   \n",
       "\n",
       "                                                Desc      Type    BodyPart  \\\n",
       "0  The partner plank band row is an abdominal exe...  Strength  Abdominals   \n",
       "1  The banded crunch isometric hold is an exercis...  Strength  Abdominals   \n",
       "2  The banded plank jack is a variation on the pl...  Strength  Abdominals   \n",
       "3  The banded crunch is an exercise targeting the...  Strength  Abdominals   \n",
       "4  The crunch is a popular core exercise targetin...  Strength  Abdominals   \n",
       "\n",
       "  Equipment         Level  Rating RatingDesc  \n",
       "0     Bands  Intermediate     0.0        NaN  \n",
       "1     Bands  Intermediate     NaN        NaN  \n",
       "2     Bands  Intermediate     NaN        NaN  \n",
       "3     Bands  Intermediate     NaN        NaN  \n",
       "4     Bands  Intermediate     NaN        NaN  "
      ]
     },
     "execution_count": 46,
     "metadata": {},
     "output_type": "execute_result"
    }
   ],
   "source": [
    "dfgym = pd.read_csv('Gym.csv')\n",
    "dfgym.head()"
   ]
  },
  {
   "cell_type": "code",
   "execution_count": 47,
   "id": "539c8095",
   "metadata": {},
   "outputs": [
    {
     "data": {
      "text/plain": [
       "Index(['Unnamed: 0', 'Title', 'Desc', 'Type', 'BodyPart', 'Equipment', 'Level',\n",
       "       'Rating', 'RatingDesc'],\n",
       "      dtype='object')"
      ]
     },
     "execution_count": 47,
     "metadata": {},
     "output_type": "execute_result"
    }
   ],
   "source": [
    "dfgym.columns"
   ]
  },
  {
   "cell_type": "code",
   "execution_count": 48,
   "id": "36b8e81e",
   "metadata": {},
   "outputs": [],
   "source": [
    "#Drop Class_number_of_rings column\n",
    "dfgym=dfgym.drop(['Unnamed: 0', 'Rating','RatingDesc', 'Level'],axis=1)"
   ]
  },
  {
   "cell_type": "code",
   "execution_count": 49,
   "id": "cba9518d",
   "metadata": {},
   "outputs": [
    {
     "data": {
      "text/plain": [
       "Title           0\n",
       "Desc         1550\n",
       "Type            0\n",
       "BodyPart        0\n",
       "Equipment       0\n",
       "dtype: int64"
      ]
     },
     "execution_count": 49,
     "metadata": {},
     "output_type": "execute_result"
    }
   ],
   "source": [
    "#Check null values\n",
    "dfgym.isnull().sum()"
   ]
  },
  {
   "cell_type": "code",
   "execution_count": 50,
   "id": "3ad59603",
   "metadata": {},
   "outputs": [],
   "source": [
    "dfgym = dfgym.dropna()"
   ]
  },
  {
   "cell_type": "code",
   "execution_count": 51,
   "id": "0ca64d59",
   "metadata": {},
   "outputs": [],
   "source": [
    "#dfgym_last_edit = dfgym"
   ]
  },
  {
   "cell_type": "code",
   "execution_count": 52,
   "id": "87c653f2",
   "metadata": {},
   "outputs": [],
   "source": [
    "# dfgym.to_csv('dfgym_last_edit.csv', index=False)"
   ]
  },
  {
   "cell_type": "code",
   "execution_count": 53,
   "id": "e7259ebf",
   "metadata": {},
   "outputs": [
    {
     "data": {
      "text/plain": [
       "(1368, 5)"
      ]
     },
     "execution_count": 53,
     "metadata": {},
     "output_type": "execute_result"
    }
   ],
   "source": [
    "dfgym.shape"
   ]
  },
  {
   "cell_type": "code",
   "execution_count": 54,
   "id": "87249402",
   "metadata": {},
   "outputs": [
    {
     "data": {
      "text/plain": [
       "Index(['Title', 'Desc', 'Type', 'BodyPart', 'Equipment'], dtype='object')"
      ]
     },
     "execution_count": 54,
     "metadata": {},
     "output_type": "execute_result"
    }
   ],
   "source": [
    "dfgym.columns"
   ]
  },
  {
   "cell_type": "code",
   "execution_count": 55,
   "id": "e070364a",
   "metadata": {},
   "outputs": [
    {
     "data": {
      "text/html": [
       "<div>\n",
       "<style scoped>\n",
       "    .dataframe tbody tr th:only-of-type {\n",
       "        vertical-align: middle;\n",
       "    }\n",
       "\n",
       "    .dataframe tbody tr th {\n",
       "        vertical-align: top;\n",
       "    }\n",
       "\n",
       "    .dataframe thead th {\n",
       "        text-align: right;\n",
       "    }\n",
       "</style>\n",
       "<table border=\"1\" class=\"dataframe\">\n",
       "  <thead>\n",
       "    <tr style=\"text-align: right;\">\n",
       "      <th></th>\n",
       "      <th>Unnamed: 0</th>\n",
       "      <th>Title</th>\n",
       "      <th>Ingredients</th>\n",
       "      <th>Instructions</th>\n",
       "      <th>Image_Name</th>\n",
       "      <th>Cleaned_Ingredients</th>\n",
       "    </tr>\n",
       "  </thead>\n",
       "  <tbody>\n",
       "    <tr>\n",
       "      <th>0</th>\n",
       "      <td>0</td>\n",
       "      <td>Miso-Butter Roast Chicken With Acorn Squash Pa...</td>\n",
       "      <td>['1 (3½–4-lb.) whole chicken', '2¾ tsp. kosher...</td>\n",
       "      <td>Pat chicken dry with paper towels, season all ...</td>\n",
       "      <td>miso-butter-roast-chicken-acorn-squash-panzanella</td>\n",
       "      <td>['1 (3½–4-lb.) whole chicken', '2¾ tsp. kosher...</td>\n",
       "    </tr>\n",
       "    <tr>\n",
       "      <th>1</th>\n",
       "      <td>1</td>\n",
       "      <td>Crispy Salt and Pepper Potatoes</td>\n",
       "      <td>['2 large egg whites', '1 pound new potatoes (...</td>\n",
       "      <td>Preheat oven to 400°F and line a rimmed baking...</td>\n",
       "      <td>crispy-salt-and-pepper-potatoes-dan-kluger</td>\n",
       "      <td>['2 large egg whites', '1 pound new potatoes (...</td>\n",
       "    </tr>\n",
       "    <tr>\n",
       "      <th>2</th>\n",
       "      <td>2</td>\n",
       "      <td>Thanksgiving Mac and Cheese</td>\n",
       "      <td>['1 cup evaporated milk', '1 cup whole milk', ...</td>\n",
       "      <td>Place a rack in middle of oven; preheat to 400...</td>\n",
       "      <td>thanksgiving-mac-and-cheese-erick-williams</td>\n",
       "      <td>['1 cup evaporated milk', '1 cup whole milk', ...</td>\n",
       "    </tr>\n",
       "    <tr>\n",
       "      <th>3</th>\n",
       "      <td>3</td>\n",
       "      <td>Italian Sausage and Bread Stuffing</td>\n",
       "      <td>['1 (¾- to 1-pound) round Italian loaf, cut in...</td>\n",
       "      <td>Preheat oven to 350°F with rack in middle. Gen...</td>\n",
       "      <td>italian-sausage-and-bread-stuffing-240559</td>\n",
       "      <td>['1 (¾- to 1-pound) round Italian loaf, cut in...</td>\n",
       "    </tr>\n",
       "    <tr>\n",
       "      <th>4</th>\n",
       "      <td>4</td>\n",
       "      <td>Newton's Law</td>\n",
       "      <td>['1 teaspoon dark brown sugar', '1 teaspoon ho...</td>\n",
       "      <td>Stir together brown sugar and hot water in a c...</td>\n",
       "      <td>newtons-law-apple-bourbon-cocktail</td>\n",
       "      <td>['1 teaspoon dark brown sugar', '1 teaspoon ho...</td>\n",
       "    </tr>\n",
       "  </tbody>\n",
       "</table>\n",
       "</div>"
      ],
      "text/plain": [
       "   Unnamed: 0                                              Title  \\\n",
       "0           0  Miso-Butter Roast Chicken With Acorn Squash Pa...   \n",
       "1           1                    Crispy Salt and Pepper Potatoes   \n",
       "2           2                        Thanksgiving Mac and Cheese   \n",
       "3           3                 Italian Sausage and Bread Stuffing   \n",
       "4           4                                       Newton's Law   \n",
       "\n",
       "                                         Ingredients  \\\n",
       "0  ['1 (3½–4-lb.) whole chicken', '2¾ tsp. kosher...   \n",
       "1  ['2 large egg whites', '1 pound new potatoes (...   \n",
       "2  ['1 cup evaporated milk', '1 cup whole milk', ...   \n",
       "3  ['1 (¾- to 1-pound) round Italian loaf, cut in...   \n",
       "4  ['1 teaspoon dark brown sugar', '1 teaspoon ho...   \n",
       "\n",
       "                                        Instructions  \\\n",
       "0  Pat chicken dry with paper towels, season all ...   \n",
       "1  Preheat oven to 400°F and line a rimmed baking...   \n",
       "2  Place a rack in middle of oven; preheat to 400...   \n",
       "3  Preheat oven to 350°F with rack in middle. Gen...   \n",
       "4  Stir together brown sugar and hot water in a c...   \n",
       "\n",
       "                                          Image_Name  \\\n",
       "0  miso-butter-roast-chicken-acorn-squash-panzanella   \n",
       "1         crispy-salt-and-pepper-potatoes-dan-kluger   \n",
       "2         thanksgiving-mac-and-cheese-erick-williams   \n",
       "3          italian-sausage-and-bread-stuffing-240559   \n",
       "4                 newtons-law-apple-bourbon-cocktail   \n",
       "\n",
       "                                 Cleaned_Ingredients  \n",
       "0  ['1 (3½–4-lb.) whole chicken', '2¾ tsp. kosher...  \n",
       "1  ['2 large egg whites', '1 pound new potatoes (...  \n",
       "2  ['1 cup evaporated milk', '1 cup whole milk', ...  \n",
       "3  ['1 (¾- to 1-pound) round Italian loaf, cut in...  \n",
       "4  ['1 teaspoon dark brown sugar', '1 teaspoon ho...  "
      ]
     },
     "execution_count": 55,
     "metadata": {},
     "output_type": "execute_result"
    }
   ],
   "source": [
    "dfood = pd.read_csv('Recipe_Dataset.csv')\n",
    "dfood.head()"
   ]
  },
  {
   "cell_type": "code",
   "execution_count": 56,
   "id": "3eaecb66",
   "metadata": {},
   "outputs": [
    {
     "name": "stdout",
     "output_type": "stream",
     "text": [
      "0        ['1 (3½–4-lb.) whole chicken', '2¾ tsp. kosher...\n",
      "1        ['2 large egg whites', '1 pound new potatoes (...\n",
      "2        ['1 cup evaporated milk', '1 cup whole milk', ...\n",
      "3        ['1 (¾- to 1-pound) round Italian loaf, cut in...\n",
      "4        ['1 teaspoon dark brown sugar', '1 teaspoon ho...\n",
      "                               ...                        \n",
      "13496    ['1 cup all-purpose flour', '2/3 cup unsweeten...\n",
      "13497    ['1 preserved lemon', '1 1/2 pound butternut s...\n",
      "13498    ['Leftover katsuo bushi (dried bonito flakes) ...\n",
      "13499    ['1 stick (1/2 cup) plus 1 tablespoon unsalted...\n",
      "13500    ['12 medium to large fresh poblano chiles (2 1...\n",
      "Name: Cleaned_Ingredients, Length: 13501, dtype: object\n"
     ]
    }
   ],
   "source": [
    "print(dfood['Cleaned_Ingredients'])"
   ]
  },
  {
   "cell_type": "code",
   "execution_count": 57,
   "id": "4514432f",
   "metadata": {},
   "outputs": [
    {
     "name": "stdout",
     "output_type": "stream",
     "text": [
      "['1 (3½–4-lb.) whole chicken', '2¾ tsp. kosher salt, divided, plus more', '2 small acorn squash (about 3 lb. total)', '2 Tbsp. finely chopped sage', '1 Tbsp. finely chopped rosemary', '6 Tbsp. unsalted butter, melted, plus 3 Tbsp. room temperature', '¼ tsp. ground allspice', 'Pinch of crushed red pepper flakes', 'Freshly ground black pepper', '⅓ loaf good-quality sturdy white bread, torn into 1\" pieces (about 2½ cups)', '2 medium apples (such as Gala or Pink Lady; about 14 oz. total), cored, cut into 1\" pieces', '2 Tbsp. extra-virgin olive oil', '½ small red onion, thinly sliced', '3 Tbsp. apple cider vinegar', '1 Tbsp. white miso', '¼ cup all-purpose flour', '2 Tbsp. unsalted butter, room temperature', '¼ cup dry white wine', '2 cups unsalted chicken broth', '2 tsp. white miso', 'Kosher salt', 'freshly ground pepper']\n"
     ]
    }
   ],
   "source": [
    "# Assuming you want to print the record at index 0 from the 'Cleaned_Ingredients' column\n",
    "specific_record = dfood['Cleaned_Ingredients'][0]\n",
    "print(specific_record)"
   ]
  },
  {
   "cell_type": "code",
   "execution_count": 58,
   "id": "64d673be",
   "metadata": {},
   "outputs": [
    {
     "data": {
      "text/plain": [
       "(13501, 6)"
      ]
     },
     "execution_count": 58,
     "metadata": {},
     "output_type": "execute_result"
    }
   ],
   "source": [
    "dfood.shape"
   ]
  },
  {
   "cell_type": "code",
   "execution_count": 59,
   "id": "edeb6f4b",
   "metadata": {},
   "outputs": [
    {
     "data": {
      "text/plain": [
       "Index(['Unnamed: 0', 'Title', 'Ingredients', 'Instructions', 'Image_Name',\n",
       "       'Cleaned_Ingredients'],\n",
       "      dtype='object')"
      ]
     },
     "execution_count": 59,
     "metadata": {},
     "output_type": "execute_result"
    }
   ],
   "source": [
    "dfood.columns"
   ]
  },
  {
   "cell_type": "code",
   "execution_count": 60,
   "id": "0d867cae",
   "metadata": {},
   "outputs": [],
   "source": [
    "dfood = dfood.drop(['Unnamed: 0', 'Ingredients', 'Image_Name'],axis=1)"
   ]
  },
  {
   "cell_type": "code",
   "execution_count": 61,
   "id": "d9ec4170",
   "metadata": {},
   "outputs": [
    {
     "data": {
      "text/plain": [
       "(13501, 3)"
      ]
     },
     "execution_count": 61,
     "metadata": {},
     "output_type": "execute_result"
    }
   ],
   "source": [
    "dfood.shape"
   ]
  },
  {
   "cell_type": "code",
   "execution_count": 62,
   "id": "d39e0175",
   "metadata": {},
   "outputs": [
    {
     "data": {
      "text/plain": [
       "Title                  5\n",
       "Instructions           8\n",
       "Cleaned_Ingredients    0\n",
       "dtype: int64"
      ]
     },
     "execution_count": 62,
     "metadata": {},
     "output_type": "execute_result"
    }
   ],
   "source": [
    "dfood.isnull().sum()"
   ]
  },
  {
   "cell_type": "code",
   "execution_count": 63,
   "id": "9bd544af",
   "metadata": {},
   "outputs": [],
   "source": [
    "dfood = dfood.dropna()"
   ]
  },
  {
   "cell_type": "code",
   "execution_count": 64,
   "id": "1c4a8632",
   "metadata": {},
   "outputs": [],
   "source": [
    "#dfood_last_edit = dfood"
   ]
  },
  {
   "cell_type": "code",
   "execution_count": 65,
   "id": "fd60070f",
   "metadata": {},
   "outputs": [],
   "source": [
    "#dfood.to_csv('dfood_lastedit.csv', index=False)"
   ]
  },
  {
   "cell_type": "code",
   "execution_count": 66,
   "id": "5972c9e7",
   "metadata": {},
   "outputs": [
    {
     "data": {
      "text/plain": [
       "(13493, 3)"
      ]
     },
     "execution_count": 66,
     "metadata": {},
     "output_type": "execute_result"
    }
   ],
   "source": [
    "dfood.shape"
   ]
  },
  {
   "cell_type": "code",
   "execution_count": 67,
   "id": "77254578",
   "metadata": {},
   "outputs": [
    {
     "data": {
      "text/html": [
       "<div>\n",
       "<style scoped>\n",
       "    .dataframe tbody tr th:only-of-type {\n",
       "        vertical-align: middle;\n",
       "    }\n",
       "\n",
       "    .dataframe tbody tr th {\n",
       "        vertical-align: top;\n",
       "    }\n",
       "\n",
       "    .dataframe thead th {\n",
       "        text-align: right;\n",
       "    }\n",
       "</style>\n",
       "<table border=\"1\" class=\"dataframe\">\n",
       "  <thead>\n",
       "    <tr style=\"text-align: right;\">\n",
       "      <th></th>\n",
       "      <th>Query</th>\n",
       "      <th>Intent</th>\n",
       "    </tr>\n",
       "  </thead>\n",
       "  <tbody>\n",
       "    <tr>\n",
       "      <th>0</th>\n",
       "      <td>Can you suggest some low-carb dinner recipes?</td>\n",
       "      <td>Recipe Recommendation</td>\n",
       "    </tr>\n",
       "    <tr>\n",
       "      <th>1</th>\n",
       "      <td>Can you suggest some low-carb dinner recipes?</td>\n",
       "      <td>Recipe Recommendation</td>\n",
       "    </tr>\n",
       "    <tr>\n",
       "      <th>2</th>\n",
       "      <td>Can you suggest some low-carb dinner recipes?</td>\n",
       "      <td>Recipe Recommendation</td>\n",
       "    </tr>\n",
       "    <tr>\n",
       "      <th>3</th>\n",
       "      <td>Can you suggest some high-fiber breakfast opti...</td>\n",
       "      <td>Recipe Recommendation</td>\n",
       "    </tr>\n",
       "    <tr>\n",
       "      <th>4</th>\n",
       "      <td>Can you suggest some heart-healthy recipes?</td>\n",
       "      <td>Recipe Recommendation</td>\n",
       "    </tr>\n",
       "  </tbody>\n",
       "</table>\n",
       "</div>"
      ],
      "text/plain": [
       "                                               Query                 Intent\n",
       "0      Can you suggest some low-carb dinner recipes?  Recipe Recommendation\n",
       "1      Can you suggest some low-carb dinner recipes?  Recipe Recommendation\n",
       "2      Can you suggest some low-carb dinner recipes?  Recipe Recommendation\n",
       "3  Can you suggest some high-fiber breakfast opti...  Recipe Recommendation\n",
       "4        Can you suggest some heart-healthy recipes?  Recipe Recommendation"
      ]
     },
     "execution_count": 67,
     "metadata": {},
     "output_type": "execute_result"
    }
   ],
   "source": [
    "# loading the dataset\n",
    "df = pd.read_csv('MyGP.csv',encoding='latin1')\n",
    "df.head()"
   ]
  },
  {
   "cell_type": "code",
   "execution_count": 68,
   "id": "a8288373",
   "metadata": {},
   "outputs": [
    {
     "data": {
      "text/plain": [
       "(1513, 2)"
      ]
     },
     "execution_count": 68,
     "metadata": {},
     "output_type": "execute_result"
    }
   ],
   "source": [
    "df.shape"
   ]
  },
  {
   "cell_type": "code",
   "execution_count": 69,
   "id": "125830e8",
   "metadata": {},
   "outputs": [
    {
     "data": {
      "text/plain": [
       "array(['Recipe Recommendation', 'Exercise Recommendation', 'Support'],\n",
       "      dtype=object)"
      ]
     },
     "execution_count": 69,
     "metadata": {},
     "output_type": "execute_result"
    }
   ],
   "source": [
    "df['Intent'].unique()"
   ]
  },
  {
   "cell_type": "code",
   "execution_count": 70,
   "id": "54d97f3f",
   "metadata": {},
   "outputs": [
    {
     "data": {
      "text/plain": [
       "<AxesSubplot:xlabel='Intent', ylabel='count'>"
      ]
     },
     "execution_count": 70,
     "metadata": {},
     "output_type": "execute_result"
    },
    {
     "data": {
      "image/png": "[encoded data removed]",
      "text/plain": [
       "<Figure size 640x480 with 1 Axes>"
      ]
     },
     "metadata": {},
     "output_type": "display_data"
    }
   ],
   "source": [
    "# Counts number of females, males, and infants\n",
    "sns.countplot(data=df, x='Intent')"
   ]
  },
  {
   "cell_type": "code",
   "execution_count": 71,
   "id": "719b061d",
   "metadata": {},
   "outputs": [
    {
     "name": "stderr",
     "output_type": "stream",
     "text": [
      "[nltk_data] Downloading package stopwords to\n",
      "[nltk_data]     C:\\Users\\saad3\\AppData\\Roaming\\nltk_data...\n",
      "[nltk_data]   Package stopwords is already up-to-date!\n",
      "[nltk_data] Downloading package punkt to\n",
      "[nltk_data]     C:\\Users\\saad3\\AppData\\Roaming\\nltk_data...\n",
      "[nltk_data]   Package punkt is already up-to-date!\n"
     ]
    },
    {
     "data": {
      "text/plain": [
       "True"
      ]
     },
     "execution_count": 71,
     "metadata": {},
     "output_type": "execute_result"
    }
   ],
   "source": [
    "nltk.download('stopwords')\n",
    "nltk.download('punkt')"
   ]
  },
  {
   "cell_type": "code",
   "execution_count": 72,
   "id": "fa8be18a",
   "metadata": {},
   "outputs": [],
   "source": [
    "port_stem = PorterStemmer()"
   ]
  },
  {
   "cell_type": "code",
   "execution_count": 73,
   "id": "de2b663f",
   "metadata": {},
   "outputs": [],
   "source": [
    "# Define stopwords\n",
    "stop_words = set(stopwords.words('english'))"
   ]
  },
  {
   "cell_type": "code",
   "execution_count": 74,
   "id": "842bdc15",
   "metadata": {},
   "outputs": [],
   "source": [
    "def preprocess_text(text):\n",
    "    text = re.sub('[^a-zA-Z]', ' ', text)\n",
    "    tokens = word_tokenize(text)\n",
    "    tokens = [word.lower() for word in tokens]\n",
    "    tokens = [word for word in tokens if word not in stop_words]\n",
    "    tokens = [port_stem.stem(word) for word in tokens]\n",
    "    return tokens"
   ]
  },
  {
   "cell_type": "code",
   "execution_count": 75,
   "id": "71b79cc7",
   "metadata": {},
   "outputs": [],
   "source": [
    "# Apply the function on text column\n",
    "# Convert all values in 'Query' column to strings\n",
    "df['Query'] = df['Query'].apply(preprocess_text)"
   ]
  },
  {
   "cell_type": "code",
   "execution_count": 76,
   "id": "830b36e1",
   "metadata": {},
   "outputs": [],
   "source": [
    "sentences = df['Query']\n",
    "sg_model = Word2Vec(sentences=sentences, vector_size=100, window=5, min_count=1, sg=1)"
   ]
  },
  {
   "cell_type": "code",
   "execution_count": 31,
   "id": "88264f7b",
   "metadata": {},
   "outputs": [],
   "source": [
    "sg_model.save(\"sg_model.bin\")"
   ]
  },
  {
   "cell_type": "code",
   "execution_count": 77,
   "id": "8e1c1af5",
   "metadata": {},
   "outputs": [],
   "source": [
    "def text_to_vectors(text):\n",
    "    vectors = []\n",
    "    for word in text:\n",
    "        if word in sg_model.wv:\n",
    "            vectors.append(sg_model.wv[word])\n",
    "    return np.mean(vectors, axis=0) if vectors else np.zeros(sg_model.vector_size)"
   ]
  },
  {
   "cell_type": "code",
   "execution_count": 78,
   "id": "91c41149",
   "metadata": {},
   "outputs": [],
   "source": [
    "# Convert text data into word vectors\n",
    "X = df['Query'].apply(text_to_vectors)\n",
    "X = np.vstack(X)\n",
    "y = df['Intent']"
   ]
  },
  {
   "cell_type": "code",
   "execution_count": 44,
   "id": "2a1d9481",
   "metadata": {},
   "outputs": [
    {
     "name": "stdout",
     "output_type": "stream",
     "text": [
      "Accuracy test: 0.9504950495049505\n",
      "Accuracy train: 0.9611570247933884\n"
     ]
    }
   ],
   "source": [
    "from sklearn.model_selection import train_test_split\n",
    "from sklearn.linear_model import LogisticRegression\n",
    "# Split the dataset into training and testing sets\n",
    "X_train, X_test, y_train, y_test = train_test_split(X, y, test_size=0.2, random_state=42)\n",
    "\n",
    "# Train a logistic regression classifier\n",
    "classifier = LogisticRegression(random_state = 42)\n",
    "classifier.fit(X_train, y_train)\n",
    "\n",
    "# Evaluate the accuracy\n",
    "accuracy = classifier.score(X_test, y_test)\n",
    "accuracy1 = classifier.score(X_train, y_train)\n",
    "print(\"Accuracy test:\", accuracy)\n",
    "print(\"Accuracy train:\", accuracy1)"
   ]
  },
  {
   "cell_type": "code",
   "execution_count": 74,
   "id": "39ab5b8c",
   "metadata": {},
   "outputs": [
    {
     "data": {
      "image/png": "[encoded data removed]",
      "text/plain": [
       "<Figure size 640x480 with 1 Axes>"
      ]
     },
     "metadata": {},
     "output_type": "display_data"
    }
   ],
   "source": [
    "# Draw learning curve for LogisticRegression model\n",
    "from sklearn.model_selection import learning_curve\n",
    "\n",
    "# Compute the learning curve with 30-fold cross-validation and 10 train sizes\n",
    "train_sizes, train_scores, test_scores = learning_curve(LogisticRegression(random_state = 42), X, y, cv=30, scoring='accuracy', n_jobs=-1, train_sizes=np.linspace(0.01, 1.0, 10))\n",
    "\n",
    "# Compute the mean and standard deviation of the training and test scores\n",
    "train_mean = np.mean(train_scores, axis=1)\n",
    "train_std = np.std(train_scores, axis=1)\n",
    "test_mean = np.mean(test_scores, axis=1)\n",
    "test_std = np.std(test_scores, axis=1)\n",
    "\n",
    "\n",
    "# Plot the mean training and test scores as a function of train_sizes\n",
    "plt.plot(train_sizes, train_mean, '--', color=\"#111111\",  label=\"Training score\")\n",
    "plt.plot(train_sizes, test_mean, color=\"#111111\", label=\"Testing score\")\n",
    "\n",
    "plt.fill_between(train_sizes, train_mean - train_std, train_mean + train_std, color=\"#DDDDDD\")\n",
    "plt.fill_between(train_sizes, test_mean - test_std, test_mean + test_std, color=\"#DDDDDD\")\n",
    "\n",
    "plt.title(\"Learning Curve\")\n",
    "plt.xlabel(\"Training Set Size\"), plt.ylabel(\"Accuracy Score\"), plt.legend(loc=\"best\")\n",
    "plt.tight_layout()\n",
    "plt.show()\n"
   ]
  },
  {
   "cell_type": "code",
   "execution_count": 32,
   "id": "bf1dca9b",
   "metadata": {},
   "outputs": [
    {
     "name": "stdout",
     "output_type": "stream",
     "text": [
      "Accuracy for RandomForest on training set: 0.988\n",
      "Accuracy for RandomForest on testing set: 0.977\n",
      "\n"
     ]
    }
   ],
   "source": [
    "from sklearn.ensemble import RandomForestClassifier\n",
    "\n",
    "RFC = RandomForestClassifier(n_estimators=5, max_leaf_nodes=9, n_jobs=-1, random_state=42)\n",
    "RFC.fit(X_train, y_train)\n",
    "\n",
    "print(\"Accuracy for RandomForest on training set: {:.3f}\".format(RFC.score(X_train, y_train)))\n",
    "print(\"Accuracy for RandomForest on testing set: {:.3f}\\n\".format(RFC.score(X_test, y_test)))"
   ]
  },
  {
   "cell_type": "code",
   "execution_count": 75,
   "id": "853994fa",
   "metadata": {},
   "outputs": [
    {
     "data": {
      "image/png": "[encoded data removed]",
      "text/plain": [
       "<Figure size 640x480 with 1 Axes>"
      ]
     },
     "metadata": {},
     "output_type": "display_data"
    }
   ],
   "source": [
    "# Draw learning curve for LogisticRegression model\n",
    "from sklearn.model_selection import learning_curve\n",
    "\n",
    "# Compute the learning curve with 30-fold cross-validation and 10 train sizes\n",
    "train_sizes, train_scores, test_scores = learning_curve(RandomForestClassifier(n_estimators=5, max_leaf_nodes=9, n_jobs=-1, random_state=42), X, y, cv=30, scoring='accuracy', n_jobs=-1, train_sizes=np.linspace(0.01, 1.0, 10))\n",
    "\n",
    "# Compute the mean and standard deviation of the training and test scores\n",
    "train_mean = np.mean(train_scores, axis=1)\n",
    "train_std = np.std(train_scores, axis=1)\n",
    "test_mean = np.mean(test_scores, axis=1)\n",
    "test_std = np.std(test_scores, axis=1)\n",
    "\n",
    "\n",
    "# Plot the mean training and test scores as a function of train_sizes\n",
    "plt.plot(train_sizes, train_mean, '--', color=\"#111111\",  label=\"Training score\")\n",
    "plt.plot(train_sizes, test_mean, color=\"#111111\", label=\"Testing score\")\n",
    "\n",
    "plt.fill_between(train_sizes, train_mean - train_std, train_mean + train_std, color=\"#DDDDDD\")\n",
    "plt.fill_between(train_sizes, test_mean - test_std, test_mean + test_std, color=\"#DDDDDD\")\n",
    "\n",
    "plt.title(\"Learning Curve\")\n",
    "plt.xlabel(\"Training Set Size\"), plt.ylabel(\"Accuracy Score\"), plt.legend(loc=\"best\")\n",
    "plt.tight_layout()\n",
    "plt.show()\n"
   ]
  },
  {
   "cell_type": "code",
   "execution_count": 33,
   "id": "9e6968ff",
   "metadata": {},
   "outputs": [
    {
     "name": "stdout",
     "output_type": "stream",
     "text": [
      "Accuracy test: 0.9570957095709571\n",
      "Accuracy train: 0.9628099173553719\n"
     ]
    }
   ],
   "source": [
    "#Apply SVC model on the dataset\n",
    "from sklearn.svm import SVC\n",
    "SVM = SVC(kernel='linear', C=1.0, probability=True, random_state=42)\n",
    "SVM.fit(X_train, y_train)\n",
    "# Evaluate the accuracy\n",
    "accuracy = SVM.score(X_test, y_test)\n",
    "accuracy1 = SVM.score(X_train, y_train)\n",
    "print(\"Accuracy test:\", accuracy)\n",
    "print(\"Accuracy train:\", accuracy1)"
   ]
  },
  {
   "cell_type": "code",
   "execution_count": 76,
   "id": "986a932d",
   "metadata": {},
   "outputs": [
    {
     "data": {
      "image/png": "[encoded data removed]",
      "text/plain": [
       "<Figure size 640x480 with 1 Axes>"
      ]
     },
     "metadata": {},
     "output_type": "display_data"
    }
   ],
   "source": [
    "# Draw learning curve for LogisticRegression model\n",
    "from sklearn.model_selection import learning_curve\n",
    "\n",
    "# Compute the learning curve with 30-fold cross-validation and 10 train sizes\n",
    "train_sizes, train_scores, test_scores = learning_curve(SVC(kernel='linear', C=1.0, probability=True, random_state=42), X, y, cv=30, scoring='accuracy', n_jobs=-1, train_sizes=np.linspace(0.01, 1.0, 10))\n",
    "\n",
    "# Compute the mean and standard deviation of the training and test scores\n",
    "train_mean = np.mean(train_scores, axis=1)\n",
    "train_std = np.std(train_scores, axis=1)\n",
    "test_mean = np.mean(test_scores, axis=1)\n",
    "test_std = np.std(test_scores, axis=1)\n",
    "\n",
    "\n",
    "# Plot the mean training and test scores as a function of train_sizes\n",
    "plt.plot(train_sizes, train_mean, '--', color=\"#111111\",  label=\"Training score\")\n",
    "plt.plot(train_sizes, test_mean, color=\"#111111\", label=\"Testing score\")\n",
    "\n",
    "plt.fill_between(train_sizes, train_mean - train_std, train_mean + train_std, color=\"#DDDDDD\")\n",
    "plt.fill_between(train_sizes, test_mean - test_std, test_mean + test_std, color=\"#DDDDDD\")\n",
    "\n",
    "plt.title(\"Learning Curve\")\n",
    "plt.xlabel(\"Training Set Size\"), plt.ylabel(\"Accuracy Score\"), plt.legend(loc=\"best\")\n",
    "plt.tight_layout()\n",
    "plt.show()\n"
   ]
  },
  {
   "cell_type": "code",
   "execution_count": 80,
   "id": "22c93fb1",
   "metadata": {},
   "outputs": [
    {
     "name": "stdout",
     "output_type": "stream",
     "text": [
      "Accuracy test: 0.9735973597359736\n",
      "Accuracy train: 0.9793388429752066\n",
      "Model saved as knn_model.joblib\n"
     ]
    },
    {
     "name": "stderr",
     "output_type": "stream",
     "text": [
      "C:\\DRIVERS\\lib\\site-packages\\sklearn\\neighbors\\_classification.py:228: FutureWarning: Unlike other reduction functions (e.g. `skew`, `kurtosis`), the default behavior of `mode` typically preserves the axis it acts along. In SciPy 1.11.0, this behavior will change: the default value of `keepdims` will become False, the `axis` over which the statistic is taken will be eliminated, and the value None will no longer be accepted. Set `keepdims` to True or False to avoid this warning.\n",
      "  mode, _ = stats.mode(_y[neigh_ind, k], axis=1)\n",
      "C:\\DRIVERS\\lib\\site-packages\\sklearn\\neighbors\\_classification.py:228: FutureWarning: Unlike other reduction functions (e.g. `skew`, `kurtosis`), the default behavior of `mode` typically preserves the axis it acts along. In SciPy 1.11.0, this behavior will change: the default value of `keepdims` will become False, the `axis` over which the statistic is taken will be eliminated, and the value None will no longer be accepted. Set `keepdims` to True or False to avoid this warning.\n",
      "  mode, _ = stats.mode(_y[neigh_ind, k], axis=1)\n"
     ]
    }
   ],
   "source": [
    "#Apply k- Nearest Neighbors (K-NN) model on the dataset\n",
    "from sklearn.neighbors import KNeighborsClassifier\n",
    "import joblib\n",
    "KNN = KNeighborsClassifier(n_neighbors = 5, metric='euclidean')\n",
    "KNN.fit(X_train, y_train)\n",
    "# Evaluate the accuracy\n",
    "accuracy = KNN.score(X_test, y_test)\n",
    "accuracy1 = KNN.score(X_train, y_train)\n",
    "print(\"Accuracy test:\", accuracy)\n",
    "print(\"Accuracy train:\", accuracy1)\n",
    "# Save the model\n",
    "joblib_file = \"knn_model.joblib\"\n",
    "joblib.dump(KNN, joblib_file)\n",
    "print(f\"Model saved as {joblib_file}\")"
   ]
  },
  {
   "cell_type": "code",
   "execution_count": 81,
   "id": "5cc052df",
   "metadata": {},
   "outputs": [
    {
     "data": {
      "image/png": "[encoded data removed]",
      "text/plain": [
       "<Figure size 640x480 with 1 Axes>"
      ]
     },
     "metadata": {},
     "output_type": "display_data"
    }
   ],
   "source": [
    "# Draw learning curve for LogisticRegression model\n",
    "from sklearn.model_selection import learning_curve\n",
    "\n",
    "# Compute the learning curve with 30-fold cross-validation and 10 train sizes\n",
    "train_sizes, train_scores, test_scores = learning_curve(KNeighborsClassifier(n_neighbors = 5, metric='euclidean'), X, y, cv=30, scoring='accuracy', n_jobs=-1, train_sizes=np.linspace(0.01, 1.0, 10))\n",
    "\n",
    "# Compute the mean and standard deviation of the training and test scores\n",
    "train_mean = np.mean(train_scores, axis=1)\n",
    "train_std = np.std(train_scores, axis=1)\n",
    "test_mean = np.mean(test_scores, axis=1)\n",
    "test_std = np.std(test_scores, axis=1)\n",
    "\n",
    "\n",
    "# Plot the mean training and test scores as a function of train_sizes\n",
    "plt.plot(train_sizes, train_mean, '--', color=\"#111111\",  label=\"Training score\")\n",
    "plt.plot(train_sizes, test_mean, color=\"#111111\", label=\"Testing score\")\n",
    "\n",
    "plt.fill_between(train_sizes, train_mean - train_std, train_mean + train_std, color=\"#DDDDDD\")\n",
    "plt.fill_between(train_sizes, test_mean - test_std, test_mean + test_std, color=\"#DDDDDD\")\n",
    "\n",
    "plt.title(\"Learning Curve\")\n",
    "plt.xlabel(\"Training Set Size\"), plt.ylabel(\"Accuracy Score\"), plt.legend(loc=\"best\")\n",
    "plt.tight_layout()\n",
    "plt.show()\n"
   ]
  },
  {
   "cell_type": "code",
   "execution_count": 80,
   "id": "2312f600",
   "metadata": {},
   "outputs": [
    {
     "name": "stdout",
     "output_type": "stream",
     "text": [
      "K-NN Classification Report:\n",
      "                          precision    recall  f1-score   support\n",
      "\n",
      "Exercise Recommendation       0.98      1.00      0.99       102\n",
      "  Recipe Recommendation       0.96      0.98      0.97        98\n",
      "                Support       0.98      0.94      0.96       103\n",
      "\n",
      "               accuracy                           0.97       303\n",
      "              macro avg       0.97      0.97      0.97       303\n",
      "           weighted avg       0.97      0.97      0.97       303\n",
      "\n",
      "K-NN Confusion Matrix:\n",
      " [[102   0   0]\n",
      " [  0  96   2]\n",
      " [  2   4  97]]\n",
      "SVC Classification Report:\n",
      "                          precision    recall  f1-score   support\n",
      "\n",
      "Exercise Recommendation       0.99      0.99      0.99       102\n",
      "  Recipe Recommendation       0.97      0.92      0.94        98\n",
      "                Support       0.92      0.96      0.94       103\n",
      "\n",
      "               accuracy                           0.96       303\n",
      "              macro avg       0.96      0.96      0.96       303\n",
      "           weighted avg       0.96      0.96      0.96       303\n",
      "\n",
      "SVC Confusion Matrix:\n",
      " [[101   0   1]\n",
      " [  0  90   8]\n",
      " [  1   3  99]]\n",
      "Random Forest Classification Report:\n",
      "                          precision    recall  f1-score   support\n",
      "\n",
      "Exercise Recommendation       0.98      1.00      0.99       102\n",
      "  Recipe Recommendation       0.95      0.95      0.95        98\n",
      "                Support       0.95      0.93      0.94       103\n",
      "\n",
      "               accuracy                           0.96       303\n",
      "              macro avg       0.96      0.96      0.96       303\n",
      "           weighted avg       0.96      0.96      0.96       303\n",
      "\n",
      "Random Forest Confusion Matrix:\n",
      " [[102   0   0]\n",
      " [  0  93   5]\n",
      " [  2   5  96]]\n",
      "LR Classification Report:\n",
      "                          precision    recall  f1-score   support\n",
      "\n",
      "Exercise Recommendation       0.99      0.98      0.99       102\n",
      "  Recipe Recommendation       0.97      0.92      0.94        98\n",
      "                Support       0.91      0.96      0.93       103\n",
      "\n",
      "               accuracy                           0.95       303\n",
      "              macro avg       0.96      0.95      0.95       303\n",
      "           weighted avg       0.96      0.95      0.95       303\n",
      "\n",
      "LR Confusion Matrix:\n",
      " [[100   0   2]\n",
      " [  0  90   8]\n",
      " [  1   3  99]]\n"
     ]
    }
   ],
   "source": [
    "from sklearn.metrics import classification_report, confusion_matrix\n",
    "# Confusion Matrix and Classification Report for K-NN\n",
    "knn_y_pred = KNN.predict(X_test)\n",
    "print(\"K-NN Classification Report:\\n\", classification_report(y_test, knn_y_pred))\n",
    "print(\"K-NN Confusion Matrix:\\n\", confusion_matrix(y_test, knn_y_pred))\n",
    "\n",
    "# Confusion Matrix and Classification Report for SVC\n",
    "svm_y_pred = SVM.predict(X_test)\n",
    "print(\"SVC Classification Report:\\n\", classification_report(y_test, svm_y_pred))\n",
    "print(\"SVC Confusion Matrix:\\n\", confusion_matrix(y_test, svm_y_pred))\n",
    "\n",
    "# Confusion Matrix and Classification Report for Random Forest\n",
    "rfc_y_pred = RFC.predict(X_test)\n",
    "print(\"Random Forest Classification Report:\\n\", classification_report(y_test, rfc_y_pred))\n",
    "print(\"Random Forest Confusion Matrix:\\n\", confusion_matrix(y_test, rfc_y_pred))\n",
    "\n",
    "lr_y_pred = classifier.predict(X_test)\n",
    "print(\"LR Classification Report:\\n\", classification_report(y_test, lr_y_pred))\n",
    "print(\"LR Confusion Matrix:\\n\", confusion_matrix(y_test, lr_y_pred))\n"
   ]
  },
  {
   "cell_type": "code",
   "execution_count": 82,
   "id": "d944f3c5",
   "metadata": {
    "scrolled": true
   },
   "outputs": [
    {
     "name": "stdout",
     "output_type": "stream",
     "text": [
      "Question: How to change my plan? \t Predicted Category: Support\n",
      "Question: Can you recommend a recipe for a vegetarian lasagna? \t Predicted Category: Recipe Recommendation\n",
      "Question: Hi? \t Predicted Category: Support\n",
      "Question: What should i TRAIN in the gym? \t Predicted Category: Exercise Recommendation\n"
     ]
    },
    {
     "name": "stderr",
     "output_type": "stream",
     "text": [
      "C:\\DRIVERS\\lib\\site-packages\\sklearn\\neighbors\\_classification.py:228: FutureWarning: Unlike other reduction functions (e.g. `skew`, `kurtosis`), the default behavior of `mode` typically preserves the axis it acts along. In SciPy 1.11.0, this behavior will change: the default value of `keepdims` will become False, the `axis` over which the statistic is taken will be eliminated, and the value None will no longer be accepted. Set `keepdims` to True or False to avoid this warning.\n",
      "  mode, _ = stats.mode(_y[neigh_ind, k], axis=1)\n"
     ]
    }
   ],
   "source": [
    "import numpy as np\n",
    "\n",
    "new_questions = [\n",
    "    \"How to change my plan?\",\n",
    "    \"Can you recommend a recipe for a vegetarian lasagna?\",\n",
    "    \"Hi?\",\n",
    "    \"What should i TRAIN in the gym?\"\n",
    "]\n",
    "\n",
    "\n",
    "# Preprocess and vectorize new questions\n",
    "preprocessed_questions = [preprocess_text(question) for question in new_questions]\n",
    "vectorized_questions = [text_to_vectors(question) for question in preprocessed_questions]\n",
    "\n",
    "\n",
    "# Predict categories for new questions\n",
    "predictions = KNN.predict(vectorized_questions)\n",
    "\n",
    "\n",
    "\n",
    "# Print predicted categories as strings\n",
    "for question, category_code in zip(new_questions, predictions):\n",
    "\n",
    "    print(f\"Question: {question} \\t Predicted Category: {category_code}\")\n",
    "\n",
    "\n",
    "\n",
    "\n"
   ]
  },
  {
   "cell_type": "code",
   "execution_count": 2,
   "id": "4d8eda9a",
   "metadata": {},
   "outputs": [
    {
     "data": {
      "text/html": [
       "<div>\n",
       "<style scoped>\n",
       "    .dataframe tbody tr th:only-of-type {\n",
       "        vertical-align: middle;\n",
       "    }\n",
       "\n",
       "    .dataframe tbody tr th {\n",
       "        vertical-align: top;\n",
       "    }\n",
       "\n",
       "    .dataframe thead th {\n",
       "        text-align: right;\n",
       "    }\n",
       "</style>\n",
       "<table border=\"1\" class=\"dataframe\">\n",
       "  <thead>\n",
       "    <tr style=\"text-align: right;\">\n",
       "      <th></th>\n",
       "      <th>Question</th>\n",
       "      <th>answers</th>\n",
       "    </tr>\n",
       "  </thead>\n",
       "  <tbody>\n",
       "    <tr>\n",
       "      <th>0</th>\n",
       "      <td>How do I contact customer support?</td>\n",
       "      <td>You can contact customer support via email at ...</td>\n",
       "    </tr>\n",
       "    <tr>\n",
       "      <th>1</th>\n",
       "      <td>How can I add an inquiry?</td>\n",
       "      <td>You can add an inquiry by visiting the 'Contac...</td>\n",
       "    </tr>\n",
       "    <tr>\n",
       "      <th>2</th>\n",
       "      <td>How do I reset my password?</td>\n",
       "      <td>To reset your password, click on 'Forgot Passw...</td>\n",
       "    </tr>\n",
       "    <tr>\n",
       "      <th>3</th>\n",
       "      <td>How do I update my account information?</td>\n",
       "      <td>You can update your account information in the...</td>\n",
       "    </tr>\n",
       "    <tr>\n",
       "      <th>4</th>\n",
       "      <td>How do I cancel my subscription?</td>\n",
       "      <td>To cancel your subscription, go to your accoun...</td>\n",
       "    </tr>\n",
       "  </tbody>\n",
       "</table>\n",
       "</div>"
      ],
      "text/plain": [
       "                                  Question  \\\n",
       "0       How do I contact customer support?   \n",
       "1                How can I add an inquiry?   \n",
       "2              How do I reset my password?   \n",
       "3  How do I update my account information?   \n",
       "4         How do I cancel my subscription?   \n",
       "\n",
       "                                             answers  \n",
       "0  You can contact customer support via email at ...  \n",
       "1  You can add an inquiry by visiting the 'Contac...  \n",
       "2  To reset your password, click on 'Forgot Passw...  \n",
       "3  You can update your account information in the...  \n",
       "4  To cancel your subscription, go to your accoun...  "
      ]
     },
     "execution_count": 2,
     "metadata": {},
     "output_type": "execute_result"
    }
   ],
   "source": [
    "data = pd.read_csv('Chatbot.csv')\n",
    "data.head()"
   ]
  },
  {
   "cell_type": "code",
   "execution_count": 3,
   "id": "cf08fcfc",
   "metadata": {},
   "outputs": [
    {
     "data": {
      "text/plain": [
       "(556, 2)"
      ]
     },
     "execution_count": 3,
     "metadata": {},
     "output_type": "execute_result"
    }
   ],
   "source": [
    "data.shape"
   ]
  },
  {
   "cell_type": "code",
   "execution_count": 5,
   "id": "f7319874",
   "metadata": {},
   "outputs": [
    {
     "name": "stdout",
     "output_type": "stream",
     "text": [
      "Requirement already satisfied: transformers in c:\\drivers\\lib\\site-packages (4.39.3)\n",
      "Requirement already satisfied: filelock in c:\\drivers\\lib\\site-packages (from transformers) (3.6.0)\n",
      "Requirement already satisfied: numpy>=1.17 in c:\\drivers\\lib\\site-packages (from transformers) (1.24.4)\n",
      "Requirement already satisfied: safetensors>=0.4.1 in c:\\drivers\\lib\\site-packages (from transformers) (0.4.2)\n",
      "Requirement already satisfied: tqdm>=4.27 in c:\\drivers\\lib\\site-packages (from transformers) (4.64.1)\n",
      "Requirement already satisfied: huggingface-hub<1.0,>=0.19.3 in c:\\drivers\\lib\\site-packages (from transformers) (0.22.2)\n",
      "Requirement already satisfied: regex!=2019.12.17 in c:\\drivers\\lib\\site-packages (from transformers) (2022.7.9)\n",
      "Requirement already satisfied: requests in c:\\drivers\\lib\\site-packages (from transformers) (2.28.1)\n",
      "Requirement already satisfied: tokenizers<0.19,>=0.14 in c:\\drivers\\lib\\site-packages (from transformers) (0.15.2)\n",
      "Requirement already satisfied: packaging>=20.0 in c:\\drivers\\lib\\site-packages (from transformers) (21.3)\n",
      "Requirement already satisfied: pyyaml>=5.1 in c:\\drivers\\lib\\site-packages (from transformers) (6.0)\n",
      "Requirement already satisfied: typing-extensions>=3.7.4.3 in c:\\drivers\\lib\\site-packages (from huggingface-hub<1.0,>=0.19.3->transformers) (4.11.0)\n",
      "Requirement already satisfied: fsspec>=2023.5.0 in c:\\drivers\\lib\\site-packages (from huggingface-hub<1.0,>=0.19.3->transformers) (2024.2.0)\n",
      "Requirement already satisfied: pyparsing!=3.0.5,>=2.0.2 in c:\\drivers\\lib\\site-packages (from packaging>=20.0->transformers) (3.0.9)\n",
      "Requirement already satisfied: colorama in c:\\drivers\\lib\\site-packages (from tqdm>=4.27->transformers) (0.4.6)\n",
      "Requirement already satisfied: certifi>=2017.4.17 in c:\\drivers\\lib\\site-packages (from requests->transformers) (2022.9.14)\n",
      "Requirement already satisfied: urllib3<1.27,>=1.21.1 in c:\\drivers\\lib\\site-packages (from requests->transformers) (1.26.11)\n",
      "Requirement already satisfied: charset-normalizer<3,>=2 in c:\\drivers\\lib\\site-packages (from requests->transformers) (2.0.4)\n",
      "Requirement already satisfied: idna<4,>=2.5 in c:\\drivers\\lib\\site-packages (from requests->transformers) (3.3)\n"
     ]
    }
   ],
   "source": [
    "!pip install transformers"
   ]
  },
  {
   "cell_type": "code",
   "execution_count": 4,
   "id": "4ecde760",
   "metadata": {},
   "outputs": [
    {
     "name": "stdout",
     "output_type": "stream",
     "text": [
      "WARNING:tensorflow:From C:\\DRIVERS\\lib\\site-packages\\keras\\src\\losses.py:2976: The name tf.losses.sparse_softmax_cross_entropy is deprecated. Please use tf.compat.v1.losses.sparse_softmax_cross_entropy instead.\n",
      "\n"
     ]
    }
   ],
   "source": [
    "import torch\n",
    "import json\n",
    "from tqdm import tqdm\n",
    "import torch.nn as nn\n",
    "from torch.optim import Adam\n",
    "import nltk\n",
    "import spacy\n",
    "import string\n",
    "import evaluate  \n",
    "from torch.utils.data import Dataset, DataLoader, RandomSampler\n",
    "import pandas as pd\n",
    "import numpy as np\n",
    "import transformers\n",
    "from sklearn.model_selection import train_test_split\n",
    "import matplotlib.pyplot as plt\n",
    "from transformers import T5Tokenizer, T5Model, T5ForConditionalGeneration, T5TokenizerFast\n",
    "\n",
    "\n",
    "import warnings\n",
    "warnings.filterwarnings(\"ignore\")"
   ]
  },
  {
   "cell_type": "code",
   "execution_count": 5,
   "id": "bac3777d",
   "metadata": {},
   "outputs": [],
   "source": [
    "# Define the model t5-base \n",
    "TOKENIZER = T5TokenizerFast.from_pretrained(\"t5-base\")\n",
    "MODEL = T5ForConditionalGeneration.from_pretrained(\"t5-base\", return_dict=True)\n",
    "OPTIMIZER = Adam(MODEL.parameters(), lr=0.00001)\n",
    "Q_LEN = 256   # Question Length\n",
    "T_LEN = 128   # Target Length\n",
    "BATCH_SIZE = 2"
   ]
  },
  {
   "cell_type": "code",
   "execution_count": 6,
   "id": "e6fec846",
   "metadata": {},
   "outputs": [],
   "source": [
    "# Custom Dataset Class\n",
    "class QA_Dataset(Dataset):\n",
    "    def __init__(self, tokenizer, df, q_len, t_len):\n",
    "        self.tokenizer = tokenizer\n",
    "        self.q_len = q_len\n",
    "        self.t_len = t_len\n",
    "        self.data = df\n",
    "        self.questions = self.data[\"Question\"]\n",
    "        self.answers = self.data[\"answers\"]\n",
    "        \n",
    "    def __len__(self):\n",
    "        return len(self.questions)\n",
    "    \n",
    "    def __getitem__(self, idx):\n",
    "        question = self.questions[idx]\n",
    "        answer = self.answers[idx]\n",
    "        \n",
    "        question_tokenized = self.tokenizer(question, max_length=self.q_len, padding=\"max_length\", truncation=True,\n",
    "                                            pad_to_max_length=True, add_special_tokens=True)\n",
    "        answer_tokenized = self.tokenizer(answer, max_length=self.t_len, padding=\"max_length\", truncation=True,\n",
    "                                            pad_to_max_length=True, add_special_tokens=True)\n",
    "        \n",
    "        labels = torch.tensor(answer_tokenized[\"input_ids\"], dtype=torch.long)\n",
    "        labels[labels == 0] = -100\n",
    "        \n",
    "        return {\n",
    "            \"input_ids\": torch.tensor(question_tokenized[\"input_ids\"], dtype=torch.long),\n",
    "            \"attention_mask\": torch.tensor(question_tokenized[\"attention_mask\"], dtype=torch.long),\n",
    "            \"labels\": labels,\n",
    "            \"decoder_attention_mask\": torch.tensor(answer_tokenized[\"attention_mask\"], dtype=torch.long)\n",
    "        }"
   ]
  },
  {
   "cell_type": "code",
   "execution_count": 7,
   "id": "5ad8c5af",
   "metadata": {},
   "outputs": [],
   "source": [
    "train_df, val_df = train_test_split(data, test_size=0.2, random_state=42)\n",
    "\n",
    "train_sampler = RandomSampler(train_df.index)\n",
    "val_sampler = RandomSampler(val_df.index)\n",
    "\n",
    "qa_dataset = QA_Dataset(TOKENIZER, data, Q_LEN, T_LEN)\n",
    "\n",
    "train_loader = DataLoader(qa_dataset, batch_size=BATCH_SIZE, sampler=train_sampler)\n",
    "val_loader = DataLoader(qa_dataset, batch_size=BATCH_SIZE, sampler=val_sampler)\n",
    "\n"
   ]
  },
  {
   "cell_type": "code",
   "execution_count": 8,
   "id": "8319f580",
   "metadata": {},
   "outputs": [
    {
     "name": "stderr",
     "output_type": "stream",
     "text": [
      "Training batches: 100%|██████████████████████████████████████████████████████████████| 222/222 [15:44<00:00,  4.25s/it]\n",
      "Validation batches: 100%|██████████████████████████████████████████████████████████████| 56/56 [03:46<00:00,  4.05s/it]\n"
     ]
    },
    {
     "name": "stdout",
     "output_type": "stream",
     "text": [
      "1/2 -> Train loss: 1.870433019625174\tValidation loss: 0.9694205054215023\n"
     ]
    },
    {
     "name": "stderr",
     "output_type": "stream",
     "text": [
      "Training batches: 100%|██████████████████████████████████████████████████████████████| 222/222 [16:11<00:00,  4.38s/it]\n",
      "Validation batches: 100%|██████████████████████████████████████████████████████████████| 56/56 [03:44<00:00,  4.01s/it]"
     ]
    },
    {
     "name": "stdout",
     "output_type": "stream",
     "text": [
      "2/2 -> Train loss: 1.578597272637191\tValidation loss: 0.8210737540253571\n"
     ]
    },
    {
     "name": "stderr",
     "output_type": "stream",
     "text": [
      "\n"
     ]
    },
    {
     "data": {
      "image/png": "[encoded data removed]",
      "text/plain": [
       "<Figure size 640x480 with 1 Axes>"
      ]
     },
     "metadata": {},
     "output_type": "display_data"
    }
   ],
   "source": [
    "train_loss = 0\n",
    "val_loss = 0\n",
    "train_batch_count = 0\n",
    "val_batch_count = 0\n",
    "train_losses = []\n",
    "val_losses = []\n",
    "# i only do 2 epochs because the time of executing\n",
    "for epoch in range(2):\n",
    "    MODEL.train()\n",
    "    for batch in tqdm(train_loader, desc=\"Training batches\"):\n",
    "        input_ids = batch[\"input_ids\"]\n",
    "        attention_mask = batch[\"attention_mask\"]\n",
    "        labels = batch[\"labels\"]\n",
    "        decoder_attention_mask = batch[\"decoder_attention_mask\"]\n",
    "\n",
    "        outputs = MODEL(\n",
    "                          input_ids=input_ids,\n",
    "                          attention_mask=attention_mask,\n",
    "                          labels=labels,\n",
    "                          decoder_attention_mask=decoder_attention_mask\n",
    "                        )\n",
    "\n",
    "        OPTIMIZER.zero_grad()\n",
    "        outputs.loss.backward()\n",
    "        OPTIMIZER.step()\n",
    "        train_loss += outputs.loss.item()\n",
    "        train_batch_count += 1\n",
    "        # Calculate average training loss for the epoch\n",
    "    avg_train_loss = train_loss / train_batch_count\n",
    "    train_losses.append(avg_train_loss)\n",
    "    #Evaluation\n",
    "    MODEL.eval()\n",
    "    for batch in tqdm(val_loader, desc=\"Validation batches\"):\n",
    "        input_ids = batch[\"input_ids\"]\n",
    "        attention_mask = batch[\"attention_mask\"]\n",
    "        labels = batch[\"labels\"]\n",
    "        decoder_attention_mask = batch[\"decoder_attention_mask\"]\n",
    "\n",
    "        outputs = MODEL(\n",
    "                          input_ids=input_ids,\n",
    "                          attention_mask=attention_mask,\n",
    "                          labels=labels,\n",
    "                          decoder_attention_mask=decoder_attention_mask\n",
    "                        )\n",
    "\n",
    "        OPTIMIZER.zero_grad()\n",
    "        outputs.loss.backward()\n",
    "        OPTIMIZER.step()\n",
    "        val_loss += outputs.loss.item()\n",
    "        val_batch_count += 1\n",
    "        # Calculate average validation loss for the epoch\n",
    "    avg_val_loss = val_loss / val_batch_count\n",
    "    val_losses.append(avg_val_loss)    \n",
    "        \n",
    "    print(f\"{epoch+1}/{2} -> Train loss: {train_loss / train_batch_count}\\tValidation loss: {val_loss/val_batch_count}\")\n",
    "    \n",
    "# Plot the learning curve\n",
    "plt.plot(train_losses, label='Training Loss')\n",
    "plt.plot(val_losses, label='Validation Loss')\n",
    "plt.xlabel('Epoch')\n",
    "plt.ylabel('Loss')\n",
    "plt.title('Learning Curve')\n",
    "plt.legend()\n",
    "plt.show()"
   ]
  },
  {
   "cell_type": "code",
   "execution_count": 9,
   "id": "7c6b380d",
   "metadata": {},
   "outputs": [
    {
     "data": {
      "text/plain": [
       "('bot_tokenizer\\\\tokenizer_config.json',\n",
       " 'bot_tokenizer\\\\special_tokens_map.json',\n",
       " 'bot_tokenizer\\\\spiece.model',\n",
       " 'bot_tokenizer\\\\added_tokens.json',\n",
       " 'bot_tokenizer\\\\tokenizer.json')"
      ]
     },
     "execution_count": 9,
     "metadata": {},
     "output_type": "execute_result"
    }
   ],
   "source": [
    "# Save the model \n",
    "MODEL.save_pretrained(\"bot_model\")\n",
    "TOKENIZER.save_pretrained(\"bot_tokenizer\")"
   ]
  },
  {
   "cell_type": "code",
   "execution_count": 10,
   "id": "844944d2",
   "metadata": {},
   "outputs": [],
   "source": [
    "# Define a function to predict answer\n",
    "def predict_answer(question, ref_answer=None):\n",
    "    inputs = TOKENIZER(question, max_length=Q_LEN, padding=\"max_length\", truncation=True, add_special_tokens=True)\n",
    "    \n",
    "    input_ids = torch.tensor(inputs[\"input_ids\"], dtype=torch.long).unsqueeze(0)\n",
    "    attention_mask = torch.tensor(inputs[\"attention_mask\"], dtype=torch.long).unsqueeze(0)\n",
    "\n",
    "    outputs = MODEL.generate(input_ids=input_ids, attention_mask=attention_mask)\n",
    "  \n",
    "    predicted_answer = TOKENIZER.decode(outputs.flatten(), skip_special_tokens=True)\n",
    "    \n",
    "    if ref_answer:\n",
    "        # Load the Bleu metric\n",
    "        bleu = evaluate.load(\"google_bleu\")\n",
    "        score = bleu.compute(predictions=[predicted_answer], \n",
    "                            references=[ref_answer])\n",
    "    \n",
    "\n",
    "        print(\"Question: \\n\", question)\n",
    "        return {\n",
    "            \"Reference Answer: \": ref_answer, \n",
    "            \"Predicted Answer: \": predicted_answer, \n",
    "            \"BLEU Score: \": score\n",
    "        }\n",
    "    else:\n",
    "        return predicted_answer"
   ]
  },
  {
   "cell_type": "code",
   "execution_count": 13,
   "id": "84d67260",
   "metadata": {},
   "outputs": [
    {
     "name": "stdout",
     "output_type": "stream",
     "text": [
      "Question: \n",
      " How do I view my recent activities?\n"
     ]
    },
    {
     "data": {
      "text/plain": [
       "{'Reference Answer: ': \"View your recent activities in the 'Activity' section of your account settings.\",\n",
       " 'Predicted Answer: ': \"View your recent activities in the 'Activities' section of your account settings.\",\n",
       " 'BLEU Score: ': {'google_bleu': 0.782608695652174}}"
      ]
     },
     "execution_count": 13,
     "metadata": {},
     "output_type": "execute_result"
    }
   ],
   "source": [
    "question = data.iloc[50][\"Question\"]\n",
    "answer = data.iloc[50][\"answers\"]\n",
    "predict_answer(question, answer)"
   ]
  },
  {
   "cell_type": "code",
   "execution_count": 8,
   "id": "80dee653",
   "metadata": {},
   "outputs": [
    {
     "name": "stderr",
     "output_type": "stream",
     "text": [
      "Special tokens have been added in the vocabulary, make sure the associated word embeddings are fine-tuned or trained.\n"
     ]
    },
    {
     "name": "stdout",
     "output_type": "stream",
     "text": [
      "Qusetion How to reset my password?\n",
      "T5-Response: Reset your password in the 'Profile' section of your account settings.\n"
     ]
    }
   ],
   "source": [
    "from transformers import T5ForConditionalGeneration, T5Tokenizer\n",
    "\n",
    "model = T5ForConditionalGeneration.from_pretrained(\"bot_model\")\n",
    "tokenizer = T5Tokenizer.from_pretrained(\"bot_tokenizer\")\n",
    "\n",
    "# Function to generate response\n",
    "def generate2(input_text):\n",
    "    input_ids = tokenizer.encode(input_text, return_tensors=\"pt\", max_length=256, truncation=True, add_special_tokens=True)\n",
    "    output = model.generate(input_ids=input_ids, max_length=128)\n",
    "    response = tokenizer.decode(output[0], skip_special_tokens=True)\n",
    "    return response\n",
    "\n",
    "user_input = \"How to reset my password?\"\n",
    "response = generate2(user_input)\n",
    "\n",
    "print(\"Qusetion\", user_input)\n",
    "print(\"T5-Response:\", response)\n"
   ]
  },
  {
   "cell_type": "code",
   "execution_count": 84,
   "id": "5e099bf8",
   "metadata": {},
   "outputs": [
    {
     "name": "stderr",
     "output_type": "stream",
     "text": [
      "Special tokens have been added in the vocabulary, make sure the associated word embeddings are fine-tuned or trained.\n",
      "C:\\DRIVERS\\lib\\site-packages\\sklearn\\neighbors\\_classification.py:228: FutureWarning: Unlike other reduction functions (e.g. `skew`, `kurtosis`), the default behavior of `mode` typically preserves the axis it acts along. In SciPy 1.11.0, this behavior will change: the default value of `keepdims` will become False, the `axis` over which the statistic is taken will be eliminated, and the value None will no longer be accepted. Set `keepdims` to True or False to avoid this warning.\n",
      "  mode, _ = stats.mode(_y[neigh_ind, k], axis=1)\n"
     ]
    }
   ],
   "source": [
    "import random\n",
    "import tkinter as tk\n",
    "from tkinter import messagebox\n",
    "\n",
    "\n",
    "model = T5ForConditionalGeneration.from_pretrained(\"bot_model\")\n",
    "tokenizer = T5Tokenizer.from_pretrained(\"bot_tokenizer\")\n",
    "# Define function to generate response based on model prediction\n",
    "def generate_response(prediction, dfood, dfgym, user_input):\n",
    "    if prediction == \"Recipe Recommendation\":\n",
    "        # Access recipe dataset and select a random recipe\n",
    "        random_index = random.randint(0, len(dfood) - 1)\n",
    "        random_recipe = dfood.iloc[random_index]\n",
    "        title = random_recipe['Title']\n",
    "        ingredients = random_recipe['Cleaned_Ingredients']\n",
    "        instructions = random_recipe['Instructions']\n",
    "        \n",
    "        # Construct response message with recipe details\n",
    "        response = f\"Sure! Here's a recipe for {title}:\\n\"\n",
    "        \n",
    "        response += f\"\\nIngredients \\n {ingredients} \\n\"\n",
    "\n",
    "        response += f\"\\nInstructions \\n {instructions}\\n\"\n",
    "\n",
    "    elif prediction == \"Exercise Recommendation\": \n",
    "        # Access recipe dataset and select a random recipe\n",
    "        random_indexgym = random.randint(0, len(dfgym) - 1)\n",
    "        random_exe = dfgym.iloc[random_indexgym]\n",
    "        \n",
    "        exe_title = random_exe['Title']\n",
    "        Desc = random_exe['Desc']\n",
    "        body_part = random_exe['BodyPart']\n",
    "        Equipment = random_exe['Equipment']\n",
    "\n",
    "        # Construct response message with recipe details\n",
    "        response = f\"I suggest you to do {exe_title} exercise\\n\"\n",
    "\n",
    "        response += f\"\\n Focus on \\n {body_part} \\n\"\n",
    "\n",
    "        response += f\"\\n Do it using \\n {Equipment}\\n\"\n",
    "\n",
    "        response += f\"\\n Description \\n {Desc}\\n\"\n",
    "        \n",
    "    elif prediction == \"Support\":\n",
    "        \n",
    "        input_ids = tokenizer.encode(user_input, return_tensors=\"pt\", max_length=256, truncation=True, add_special_tokens=True)\n",
    "        output = model.generate(input_ids=input_ids, max_length=128)\n",
    "        response = tokenizer.decode(output[0], skip_special_tokens=True)\n",
    "            \n",
    "        \n",
    "    else:\n",
    "        # If prediction is not \"Recipe Recommendation\", generate a generic response\n",
    "        response = \"I'm sorry, I couldn't find a suitable recommendation for you at the moment.\"\n",
    "    \n",
    "    return response\n",
    "\n",
    "# Function to make prediction based on user input\n",
    "def make_prediction(user_input, dfood, dfgym):\n",
    "    # Preprocess and vectorize user input\n",
    "    preprocessed_input = preprocess_text(user_input) \n",
    "    vectorized_input = text_to_vectors(preprocessed_input)\n",
    "    \n",
    "    # Reshape vectorized input\n",
    "    vectorized_input = vectorized_input.reshape(1, -1)\n",
    "    \n",
    "    # Make prediction based on vectorized input\n",
    "    prediction = KNN.predict(vectorized_input)\n",
    "    \n",
    "    # Generate response based on prediction\n",
    "    response = generate_response(prediction, dfood, dfgym, user_input)\n",
    "    return response\n",
    "\n",
    "def get_recommendation():\n",
    "    user_input = entry.get().strip()\n",
    "    if user_input:\n",
    "        response = make_prediction(user_input, dfood, dfgym)\n",
    "        messagebox.showinfo(\"Recommendation\", response)\n",
    "    else:\n",
    "        messagebox.showwarning(\"Error\", \"Please enter a question\")\n",
    "\n",
    "# Example usage:\n",
    "if __name__ == \"__main__\":\n",
    "    root = tk.Tk()\n",
    "    root.title(\"Recommendation Chatbot\")\n",
    "\n",
    "    label = tk.Label(root, text=\"What do you want a recommendation for?\")\n",
    "    label.pack()\n",
    "\n",
    "    entry = tk.Entry(root, width=30)\n",
    "    entry.pack()\n",
    "\n",
    "    button = tk.Button(root, text=\"Get Recommendation\", command=get_recommendation)\n",
    "    button.pack()\n",
    "\n",
    "    root.mainloop()\n"
   ]
  },
  {
   "cell_type": "code",
   "execution_count": null,
   "id": "74e16ccb",
   "metadata": {},
   "outputs": [],
   "source": []
  }
 ],
 "metadata": {
  "kernelspec": {
   "display_name": "Python 3 (ipykernel)",
   "language": "python",
   "name": "python3"
  },
  "language_info": {
   "codemirror_mode": {
    "name": "ipython",
    "version": 3
   },
   "file_extension": ".py",
   "mimetype": "text/x-python",
   "name": "python",
   "nbconvert_exporter": "python",
   "pygments_lexer": "ipython3",
   "version": "3.9.13"
  }
 },
 "nbformat": 4,
 "nbformat_minor": 5
}
